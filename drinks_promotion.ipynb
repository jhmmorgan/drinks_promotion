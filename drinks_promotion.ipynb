{
 "cells": [
  {
   "cell_type": "markdown",
   "id": "light-milton",
   "metadata": {
    "id": "bA5ajAmk7XH6"
   },
   "source": [
    "# Where should a drinks company run promotions?\n",
    "\n",
    "## 📖 Background\n",
    "Your company owns a chain of stores across Russia that sell a variety of alcoholic drinks. The company recently ran a wine promotion in Saint Petersburg that was very successful. Due to the cost to the business, it isn’t possible to run the promotion in all regions. The marketing team would like to target 10 other regions that have similar buying habits to Saint Petersburg where they would expect the promotion to be similarly successful.\n",
    "\n",
    "### The data\n",
    "The marketing team has sourced you with historical sales volumes per capita for several different drinks types.\n",
    "\n",
    "- \"year\" - year (1998-2016)\n",
    "- \"region\" - name of a federal subject of Russia. It could be oblast, republic, krai, autonomous okrug, federal city and a single autonomous oblast\n",
    "- \"wine\" - sale of wine in litres by year per capita\n",
    "- \"beer\" - sale of beer in litres by year per capita\n",
    "- \"vodka\" - sale of vodka in litres by year per capita\n",
    "- \"champagne\" - sale of champagne in litres by year per capita\n",
    "- \"brandy\" - sale of brandy in litres by year per capita"
   ]
  },
  {
   "cell_type": "markdown",
   "id": "offshore-publication",
   "metadata": {},
   "source": [
    "# Competition - Drinks Promotions\n",
    "## James Morgan (jhmmorgan)\n",
    "*2021-10-20*\n",
    "\n",
    "## Assumptions and restrictions\n",
    "Before we begin, it's worth noting that we'll be making a number of assumptions within the analysis and have a number of restrictions.\n",
    " - We don't know when the wine marketing promotion ran.\n",
    "     - We know that it was run in Saint Petersburg recently, however our data goes up to 2016 and it's unclear if the promotion ran after 2016, or if 2016 is considered \"recent\".\n",
    "     - We'll therefore assume the marketing promotion ran after 2016.\n",
    " - We don't know the demographics of each region, or how much residents spent on alcohol across all brands.\n",
    "     - We only know how much was spent, per capita for our brand.\n",
    " - We don't know why there is missing data\n",
    "     - For example, did our company not sell achohol to those regions, or was there no interest in our brand?\n",
    " - We're unaware of the compeition.\n",
    "\n",
    "## 1. Set Up\n",
    "### 1.1 Import Libraries"
   ]
  },
  {
   "cell_type": "code",
   "execution_count": 1,
   "id": "foster-absence",
   "metadata": {
    "jupyter": {
     "source_hidden": true
    },
    "tags": []
   },
   "outputs": [],
   "source": [
    "import pandas as pd\n",
    "import numpy as np\n",
    "\n",
    "import matplotlib.pyplot as plt\n",
    "import seaborn as sns\n",
    "\n",
    "\n",
    "from sklearn.cluster import KMeans\n",
    "from scipy.sparse import csr_matrix\n",
    "from sklearn.decomposition import NMF\n",
    "from sklearn.preprocessing import Normalizer, MaxAbsScaler\n",
    "from sklearn.pipeline import make_pipeline"
   ]
  },
  {
   "cell_type": "markdown",
   "id": "cross-bones",
   "metadata": {},
   "source": [
    "### 1.2 Default classes\n",
    "Used for better printing outputs."
   ]
  },
  {
   "cell_type": "code",
   "execution_count": 2,
   "id": "portable-animation",
   "metadata": {
    "jupyter": {
     "source_hidden": true
    },
    "tags": []
   },
   "outputs": [],
   "source": [
    "class color:\n",
    "   PURPLE = '\\033[95m'\n",
    "   CYAN = '\\033[96m'\n",
    "   DARKCYAN = '\\033[36m'\n",
    "   BLUE = '\\033[94m'\n",
    "   GREEN = '\\033[92m'\n",
    "   YELLOW = '\\033[93m'\n",
    "   RED = '\\033[91m'\n",
    "   BOLD = '\\033[1m'\n",
    "   UNDERLINE = '\\033[4m'\n",
    "   HEADER = '\\033[1m' + '\\033[4m'\n",
    "   END = '\\033[0m'"
   ]
  },
  {
   "cell_type": "markdown",
   "id": "incorporate-houston",
   "metadata": {},
   "source": [
    "### 1.3 Loading the data"
   ]
  },
  {
   "cell_type": "code",
   "execution_count": 3,
   "id": "divine-gothic",
   "metadata": {
    "jupyter": {
     "source_hidden": true
    },
    "tags": []
   },
   "outputs": [
    {
     "data": {
      "text/html": [
       "<div>\n",
       "<style scoped>\n",
       "    .dataframe tbody tr th:only-of-type {\n",
       "        vertical-align: middle;\n",
       "    }\n",
       "\n",
       "    .dataframe tbody tr th {\n",
       "        vertical-align: top;\n",
       "    }\n",
       "\n",
       "    .dataframe thead th {\n",
       "        text-align: right;\n",
       "    }\n",
       "</style>\n",
       "<table border=\"1\" class=\"dataframe\">\n",
       "  <thead>\n",
       "    <tr style=\"text-align: right;\">\n",
       "      <th></th>\n",
       "      <th>year</th>\n",
       "      <th>region</th>\n",
       "      <th>wine</th>\n",
       "      <th>beer</th>\n",
       "      <th>vodka</th>\n",
       "      <th>champagne</th>\n",
       "      <th>brandy</th>\n",
       "    </tr>\n",
       "  </thead>\n",
       "  <tbody>\n",
       "    <tr>\n",
       "      <th>0</th>\n",
       "      <td>1998</td>\n",
       "      <td>Republic of Adygea</td>\n",
       "      <td>1.9</td>\n",
       "      <td>8.8</td>\n",
       "      <td>3.4</td>\n",
       "      <td>0.3</td>\n",
       "      <td>0.1</td>\n",
       "    </tr>\n",
       "    <tr>\n",
       "      <th>1</th>\n",
       "      <td>1998</td>\n",
       "      <td>Altai Krai</td>\n",
       "      <td>3.3</td>\n",
       "      <td>19.2</td>\n",
       "      <td>11.3</td>\n",
       "      <td>1.1</td>\n",
       "      <td>0.1</td>\n",
       "    </tr>\n",
       "    <tr>\n",
       "      <th>2</th>\n",
       "      <td>1998</td>\n",
       "      <td>Amur Oblast</td>\n",
       "      <td>2.1</td>\n",
       "      <td>21.2</td>\n",
       "      <td>17.3</td>\n",
       "      <td>0.7</td>\n",
       "      <td>0.4</td>\n",
       "    </tr>\n",
       "    <tr>\n",
       "      <th>3</th>\n",
       "      <td>1998</td>\n",
       "      <td>Arkhangelsk Oblast</td>\n",
       "      <td>4.3</td>\n",
       "      <td>10.6</td>\n",
       "      <td>11.7</td>\n",
       "      <td>0.4</td>\n",
       "      <td>0.3</td>\n",
       "    </tr>\n",
       "    <tr>\n",
       "      <th>4</th>\n",
       "      <td>1998</td>\n",
       "      <td>Astrakhan Oblast</td>\n",
       "      <td>2.9</td>\n",
       "      <td>18.0</td>\n",
       "      <td>9.5</td>\n",
       "      <td>0.8</td>\n",
       "      <td>0.2</td>\n",
       "    </tr>\n",
       "  </tbody>\n",
       "</table>\n",
       "</div>"
      ],
      "text/plain": [
       "   year              region  wine  beer  vodka  champagne  brandy\n",
       "0  1998  Republic of Adygea   1.9   8.8    3.4        0.3     0.1\n",
       "1  1998          Altai Krai   3.3  19.2   11.3        1.1     0.1\n",
       "2  1998         Amur Oblast   2.1  21.2   17.3        0.7     0.4\n",
       "3  1998  Arkhangelsk Oblast   4.3  10.6   11.7        0.4     0.3\n",
       "4  1998    Astrakhan Oblast   2.9  18.0    9.5        0.8     0.2"
      ]
     },
     "execution_count": 3,
     "metadata": {},
     "output_type": "execute_result"
    }
   ],
   "source": [
    "import pandas as pd\n",
    "df = pd.read_csv(r'./data/russian_alcohol_consumption.csv')\n",
    "df.head()"
   ]
  },
  {
   "cell_type": "markdown",
   "id": "about-lafayette",
   "metadata": {},
   "source": [
    "## 2. EDA (Exploratory Data Analysis)\n",
    "### 2.1 Data Check"
   ]
  },
  {
   "cell_type": "code",
   "execution_count": 4,
   "id": "stock-consultancy",
   "metadata": {
    "jupyter": {
     "source_hidden": true
    },
    "tags": []
   },
   "outputs": [
    {
     "name": "stdout",
     "output_type": "stream",
     "text": [
      "\u001b[1m\u001b[4mData Types for all features in the data\u001b[0m\n",
      "      Column    Dtype     Sample1    Sample2          Sample3\n",
      "0       year    int64        1998       1998             2003\n",
      "1     region   object  Altai Krai  Perm Krai  Khabarovsk Krai\n",
      "2       wine  float64         3.3        3.2              3.8\n",
      "3       beer  float64        19.2       19.0             47.4\n",
      "4      vodka  float64        11.3       16.7             15.2\n",
      "5  champagne  float64         1.1        0.9              0.7\n",
      "6     brandy  float64         0.1        0.2              0.4\n"
     ]
    }
   ],
   "source": [
    "# Data Type Check\n",
    "df_check = pd.DataFrame({\"Column\": df.columns, \"Dtype\": df.dtypes.astype(\"str\").tolist(), \n",
    "                         \"Sample1\": df.loc[1].tolist(),\n",
    "                         \"Sample2\": df.loc[50].tolist(), \n",
    "                         \"Sample3\": df.loc[500].tolist()})\n",
    "print(color.HEADER + \"Data Types for all features in the data\" + color.END)\n",
    "print(df_check.to_string())"
   ]
  },
  {
   "cell_type": "code",
   "execution_count": 5,
   "id": "anticipated-stationery",
   "metadata": {
    "jupyter": {
     "source_hidden": true
    },
    "tags": []
   },
   "outputs": [
    {
     "name": "stdout",
     "output_type": "stream",
     "text": [
      "\u001b[1m\u001b[4mWhich features contain null values?\u001b[0m\n"
     ]
    },
    {
     "data": {
      "text/html": [
       "<div>\n",
       "<style scoped>\n",
       "    .dataframe tbody tr th:only-of-type {\n",
       "        vertical-align: middle;\n",
       "    }\n",
       "\n",
       "    .dataframe tbody tr th {\n",
       "        vertical-align: top;\n",
       "    }\n",
       "\n",
       "    .dataframe thead th {\n",
       "        text-align: right;\n",
       "    }\n",
       "</style>\n",
       "<table border=\"1\" class=\"dataframe\">\n",
       "  <thead>\n",
       "    <tr style=\"text-align: right;\">\n",
       "      <th></th>\n",
       "      <th>No.</th>\n",
       "      <th>%</th>\n",
       "    </tr>\n",
       "  </thead>\n",
       "  <tbody>\n",
       "    <tr>\n",
       "      <th>wine</th>\n",
       "      <td>63</td>\n",
       "      <td>3.90</td>\n",
       "    </tr>\n",
       "    <tr>\n",
       "      <th>beer</th>\n",
       "      <td>58</td>\n",
       "      <td>3.59</td>\n",
       "    </tr>\n",
       "    <tr>\n",
       "      <th>vodka</th>\n",
       "      <td>61</td>\n",
       "      <td>3.78</td>\n",
       "    </tr>\n",
       "    <tr>\n",
       "      <th>champagne</th>\n",
       "      <td>63</td>\n",
       "      <td>3.90</td>\n",
       "    </tr>\n",
       "    <tr>\n",
       "      <th>brandy</th>\n",
       "      <td>66</td>\n",
       "      <td>4.09</td>\n",
       "    </tr>\n",
       "  </tbody>\n",
       "</table>\n",
       "</div>"
      ],
      "text/plain": [
       "           No.     %\n",
       "wine        63  3.90\n",
       "beer        58  3.59\n",
       "vodka       61  3.78\n",
       "champagne   63  3.90\n",
       "brandy      66  4.09"
      ]
     },
     "execution_count": 5,
     "metadata": {},
     "output_type": "execute_result"
    }
   ],
   "source": [
    "print(color.HEADER + \"Which features contain null values?\" + color.END)\n",
    "df_missing = pd.concat([df.isnull().sum()[df.isnull().sum()>0],round((df.isnull().sum()[df.isnull().sum()>0]/len(df))*100,2)], axis=1)\n",
    "df_missing.columns = [\"No.\", \"%\"]\n",
    "df_missing"
   ]
  },
  {
   "cell_type": "markdown",
   "id": "elementary-dominican",
   "metadata": {},
   "source": [
    "##### Observations:\n",
    "There doesn't appear to be anything unusual with the data types.\n",
    "However, we do have several missing features in all of the alcoholic features."
   ]
  },
  {
   "cell_type": "code",
   "execution_count": 6,
   "id": "protected-shannon",
   "metadata": {
    "jupyter": {
     "source_hidden": true
    },
    "tags": []
   },
   "outputs": [
    {
     "name": "stdout",
     "output_type": "stream",
     "text": [
      "\u001b[1m\u001b[4mWhich regions have missing values?\u001b[0m\n"
     ]
    },
    {
     "data": {
      "text/html": [
       "<div>\n",
       "<style scoped>\n",
       "    .dataframe tbody tr th:only-of-type {\n",
       "        vertical-align: middle;\n",
       "    }\n",
       "\n",
       "    .dataframe tbody tr th {\n",
       "        vertical-align: top;\n",
       "    }\n",
       "\n",
       "    .dataframe thead th {\n",
       "        text-align: right;\n",
       "    }\n",
       "</style>\n",
       "<table border=\"1\" class=\"dataframe\">\n",
       "  <thead>\n",
       "    <tr style=\"text-align: right;\">\n",
       "      <th></th>\n",
       "      <th>year</th>\n",
       "      <th>region</th>\n",
       "      <th>wine</th>\n",
       "      <th>beer</th>\n",
       "      <th>vodka</th>\n",
       "      <th>champagne</th>\n",
       "      <th>brandy</th>\n",
       "    </tr>\n",
       "    <tr>\n",
       "      <th>region</th>\n",
       "      <th></th>\n",
       "      <th></th>\n",
       "      <th></th>\n",
       "      <th></th>\n",
       "      <th></th>\n",
       "      <th></th>\n",
       "      <th></th>\n",
       "    </tr>\n",
       "  </thead>\n",
       "  <tbody>\n",
       "    <tr>\n",
       "      <th>Chechen Republic</th>\n",
       "      <td>0</td>\n",
       "      <td>0</td>\n",
       "      <td>19</td>\n",
       "      <td>16</td>\n",
       "      <td>19</td>\n",
       "      <td>19</td>\n",
       "      <td>19</td>\n",
       "    </tr>\n",
       "    <tr>\n",
       "      <th>Republic of Crimea</th>\n",
       "      <td>0</td>\n",
       "      <td>0</td>\n",
       "      <td>16</td>\n",
       "      <td>16</td>\n",
       "      <td>16</td>\n",
       "      <td>16</td>\n",
       "      <td>16</td>\n",
       "    </tr>\n",
       "    <tr>\n",
       "      <th>Republic of Ingushetia</th>\n",
       "      <td>0</td>\n",
       "      <td>0</td>\n",
       "      <td>12</td>\n",
       "      <td>10</td>\n",
       "      <td>10</td>\n",
       "      <td>12</td>\n",
       "      <td>15</td>\n",
       "    </tr>\n",
       "    <tr>\n",
       "      <th>Sevastopol</th>\n",
       "      <td>0</td>\n",
       "      <td>0</td>\n",
       "      <td>16</td>\n",
       "      <td>16</td>\n",
       "      <td>16</td>\n",
       "      <td>16</td>\n",
       "      <td>16</td>\n",
       "    </tr>\n",
       "  </tbody>\n",
       "</table>\n",
       "</div>"
      ],
      "text/plain": [
       "                        year  region  wine  beer  vodka  champagne  brandy\n",
       "region                                                                    \n",
       "Chechen Republic           0       0    19    16     19         19      19\n",
       "Republic of Crimea         0       0    16    16     16         16      16\n",
       "Republic of Ingushetia     0       0    12    10     10         12      15\n",
       "Sevastopol                 0       0    16    16     16         16      16"
      ]
     },
     "execution_count": 6,
     "metadata": {},
     "output_type": "execute_result"
    }
   ],
   "source": [
    "print(color.HEADER + \"Which regions have missing values?\" + color.END)\n",
    "df_missing_grouped = df.groupby([\"region\"]).apply(lambda x: x.isnull().sum())\n",
    "df_missing_grouped = df_missing_grouped[df_missing_grouped.sum(axis=1)>0]\n",
    "df_missing_grouped"
   ]
  },
  {
   "cell_type": "markdown",
   "id": "opening-theorem",
   "metadata": {},
   "source": [
    "We need to decide what to do with these missing values.\n",
    "First, let's see if any of the data that is missing is from the last few years.  The thinking is that some regions might only have started selling our brand in recent years, whereas others may not be popular in recent years at all."
   ]
  },
  {
   "cell_type": "code",
   "execution_count": 7,
   "id": "accessory-agenda",
   "metadata": {
    "jupyter": {
     "source_hidden": true
    },
    "tags": []
   },
   "outputs": [
    {
     "data": {
      "image/png": "[encoded data removed]",
      "text/plain": [
       "<Figure size 1440x864 with 12 Axes>"
      ]
     },
     "metadata": {
      "needs_background": "light"
     },
     "output_type": "display_data"
    }
   ],
   "source": [
    "df_missing_regions = df_missing_grouped.index.values\n",
    "filter1 = df.region.isin(df_missing_regions)\n",
    "df_filtered = df[(filter1)].sort_values(by=[\"region\", \"year\"])\n",
    "df_filtered.fillna(0, inplace = True)\n",
    "df_filtered[\"total\"] = df_filtered.wine + \\\n",
    "                       df_filtered.beer + \\\n",
    "                       df_filtered.vodka + \\\n",
    "                       df_filtered.champagne + \\\n",
    "                       df_filtered.brandy\n",
    "df_filtered[\"year\"] = df_filtered.year.astype(str)\n",
    "\n",
    "df_filtered_wine = pd.pivot_table(df_filtered[[\"year\", \"region\", \"wine\"]], values=\"wine\", index=\"region\", columns=[\"year\"])\n",
    "df_filtered_beer = pd.pivot_table(df_filtered[[\"year\", \"region\", \"beer\"]], values=\"beer\", index=\"region\", columns=[\"year\"])\n",
    "df_filtered_vodka = pd.pivot_table(df_filtered[[\"year\", \"region\", \"vodka\"]], values=\"vodka\", index=\"region\", columns=[\"year\"])\n",
    "df_filtered_champagne = pd.pivot_table(df_filtered[[\"year\", \"region\", \"champagne\"]], values=\"champagne\", index=\"region\", columns=[\"year\"])\n",
    "df_filtered_brandy = pd.pivot_table(df_filtered[[\"year\", \"region\", \"brandy\"]], values=\"brandy\", index=\"region\", columns=[\"year\"])\n",
    "df_filtered_total = pd.pivot_table(df_filtered[[\"year\", \"region\", \"total\"]], values=\"total\", index=\"region\", columns=[\"year\"])\n",
    "\n",
    "plt.figure(figsize = (20,12))\n",
    "plt.suptitle(\"Heatmap of alcohol sales for regions with missing data\")\n",
    "plt.subplot(3, 2, 1)\n",
    "plt.title(\"All alcohol\")\n",
    "sns.heatmap(df_filtered_total, vmin = 0, vmax = 50, cmap = \"Reds\", linecolor = \"grey\", linewidth = 0.1)\n",
    "\n",
    "plt.subplot(3, 2, 2)\n",
    "plt.title(\"Wine\")\n",
    "sns.heatmap(df_filtered_wine, vmin = 0, vmax = 50, cmap = \"Blues\", linecolor = \"grey\", linewidth = 0.1)\n",
    "\n",
    "plt.subplot(3, 2, 3)\n",
    "plt.title(\"Beer\")\n",
    "sns.heatmap(df_filtered_beer, vmin = 0, vmax = 50, cmap = \"Blues\", linecolor = \"grey\", linewidth = 0.1)\n",
    "          \n",
    "plt.subplot(3, 2, 4)\n",
    "plt.title(\"Vodka\")\n",
    "sns.heatmap(df_filtered_vodka, vmin = 0, vmax = 50, cmap = \"Blues\", linecolor = \"grey\", linewidth = 0.1)\n",
    "\n",
    "plt.subplot(3, 2, 5)\n",
    "plt.title(\"Champagne\")\n",
    "sns.heatmap(df_filtered_champagne, vmin = 0, vmax = 50, cmap = \"Blues\", linecolor = \"grey\", linewidth = 0.1)\n",
    "\n",
    "plt.subplot(3, 2, 6)\n",
    "plt.title(\"Brandy\")\n",
    "sns.heatmap(df_filtered_brandy, vmin = 0, vmax = 50, cmap = \"Blues\", linecolor = \"grey\", linewidth = 0.1)\n",
    "\n",
    "plt.tight_layout()\n",
    "plt.show()"
   ]
  },
  {
   "cell_type": "markdown",
   "id": "mature-eugene",
   "metadata": {},
   "source": [
    "Interesting!\n",
    "\n",
    "**Chechen Republic** has barely any sales data. We'll be unable to predict the impact of a marketing campaign and they certainly won't be in the top 10, so we're safe to remove them from the data rather than fill in the missing data.\n",
    "\n",
    "**Republic of Ingushetia** has had some sales from 2001, but these decreased over several years before disappearing completely.  Similar to Chechen Republic, we're safe to remove their data completely.\n",
    "Of course, we could change the sales to zero as an alternative.\n",
    "\n",
    "**Republic of Crimea** and **Sevastopol** however are a different story.  They have no historic sales, however they have been selling for the last three years, which is a good indication of ongoing sales in the future.\n",
    "\n",
    "We have a number of options.\n",
    " - We could change all of their historic data to 0;\n",
    " - We could change their historic data to the mean of their current sales;\n",
    " - We could change their historic data to match their first year of sales (2014).\n",
    "\n",
    "I feel Option 2 - using the mean - is a good reflection. Let's implement our changes and check no missing values remain."
   ]
  },
  {
   "cell_type": "code",
   "execution_count": 8,
   "id": "powered-symphony",
   "metadata": {
    "jupyter": {
     "source_hidden": true
    },
    "tags": []
   },
   "outputs": [],
   "source": [
    "df_cleaned = df[~df.region.isin([\"Chechen Republic\", \"Republic of Ingushetia\"])]#.set_index([\"region\", \"year\"])\n",
    "\n",
    "wine_series = round(df_cleaned.groupby(\"region\").wine.mean(),0)\n",
    "beer_series = round(df_cleaned.groupby(\"region\").beer.mean(),0)\n",
    "vodka_series = round(df_cleaned.groupby(\"region\").vodka.mean(),0)\n",
    "champagne_series = round(df_cleaned.groupby(\"region\").champagne.mean(),0)\n",
    "brandy_series = round(df_cleaned.groupby(\"region\").brandy.mean(),0)\n",
    "df_cleaned = df_cleaned.fillna({\"wine\": df_cleaned[\"region\"].apply(lambda x: wine_series[x]),\n",
    "                                \"beer\": df_cleaned[\"region\"].apply(lambda x: beer_series[x]),\n",
    "                                \"vodka\": df_cleaned[\"region\"].apply(lambda x: vodka_series[x]),\n",
    "                                \"champagne\": df_cleaned[\"region\"].apply(lambda x: champagne_series[x]),\n",
    "                                \"brandy\": df_cleaned[\"region\"].apply(lambda x: brandy_series[x]),})\n",
    "df_cleaned[\"total\"] = df_cleaned.wine + df_cleaned.beer + df_cleaned.vodka + df_cleaned.champagne + df_cleaned.brandy"
   ]
  },
  {
   "cell_type": "code",
   "execution_count": 9,
   "id": "directed-suffering",
   "metadata": {
    "jupyter": {
     "source_hidden": true
    },
    "tags": []
   },
   "outputs": [
    {
     "name": "stdout",
     "output_type": "stream",
     "text": [
      "\u001b[1m\u001b[91mNo. of missing values after amendments: 0\u001b[0m\n"
     ]
    }
   ],
   "source": [
    "print(color.BOLD + color.RED + f\"No. of missing values after amendments: {df_cleaned.isna().sum().sum()}\" + color.END)"
   ]
  },
  {
   "cell_type": "markdown",
   "id": "green-jamaica",
   "metadata": {},
   "source": [
    "### 2.2 Looking at Saint Petersburg sales\n",
    "\n",
    "Let's now look at the Saint Petersburg sales data to understand the full impact of their marketing campaign."
   ]
  },
  {
   "cell_type": "code",
   "execution_count": 10,
   "id": "precious-train",
   "metadata": {
    "jupyter": {
     "source_hidden": true
    },
    "tags": []
   },
   "outputs": [
    {
     "data": {
      "image/png": "[encoded data removed]",
      "text/plain": [
       "<Figure size 1440x432 with 1 Axes>"
      ]
     },
     "metadata": {
      "needs_background": "light"
     },
     "output_type": "display_data"
    }
   ],
   "source": [
    "df_filtered = df_cleaned[df_cleaned.region == \"Saint Petersburg\"]\n",
    "\n",
    "df_melt = pd.melt(df_filtered, \n",
    "                  value_vars = [\"wine\", \"beer\", \"vodka\", \"champagne\", \"brandy\"],\n",
    "                  var_name = \"alcohol\",\n",
    "                  id_vars = [\"region\", \"year\", \"total\"])\n",
    "\n",
    "\n",
    "plt.figure(figsize = (20,6))\n",
    "plt.suptitle(\"Sale of alcohol over the years for Saint Petersburgh\", fontsize=16)\n",
    "plt.title(\"(Overlayed on the total amount of alcohol sold)\", fontsize=14)\n",
    "plt.fill_between(df_melt['year'], df_melt['total'], alpha=0.2)\n",
    "sns.lineplot(data = df_melt, x = \"year\", y = \"value\", hue = \"alcohol\")\n",
    "plt.xlim([1998, 2016])\n",
    "plt.tight_layout()\n",
    "plt.show()"
   ]
  },
  {
   "cell_type": "markdown",
   "id": "static-prompt",
   "metadata": {},
   "source": [
    "Hmm. This doesn't show us a lot.\n",
    "We can see that **beer** sales are much stronger, but are in decline.  The detail on the other types of alcohol are lost at this scale.\n",
    "\n",
    "How do **Saint Petersburg** sales ranking compared to other regions?"
   ]
  },
  {
   "cell_type": "code",
   "execution_count": 11,
   "id": "metric-rouge",
   "metadata": {
    "jupyter": {
     "source_hidden": true
    },
    "tags": []
   },
   "outputs": [
    {
     "name": "stdout",
     "output_type": "stream",
     "text": [
      "\u001b[1mIn 2009, Saint Petersburg ranked: \u001b[91mNo.1\u001b[0m\u001b[1m for alcohol sales.\u001b[0m\n",
      "\u001b[1mIn 2013, Saint Petersburg ranked: \u001b[91mNo.67\u001b[0m\u001b[1m for alcohol sales.\u001b[0m\n",
      "\u001b[1mIn 2016, Saint Petersburg ranked: \u001b[91mNo.72\u001b[0m\u001b[1m for alcohol sales.\u001b[0m\n"
     ]
    }
   ],
   "source": [
    "rank_saint_petersburg_09 = pd.DataFrame(df_cleaned[df_cleaned.year==2009])[[\"year\", \"region\", \"total\"]].sort_values(\"total\", ascending = False)\n",
    "rank_saint_petersburg_09[\"row\"] = np.arange(rank_saint_petersburg_09.shape[0])+1\n",
    "rsp_09 = rank_saint_petersburg_09.loc[rank_saint_petersburg_09.region == \"Saint Petersburg\", \"row\"].values[0]\n",
    "\n",
    "rank_saint_petersburg_13 = pd.DataFrame(df_cleaned[df_cleaned.year==2013])[[\"year\", \"region\", \"total\"]].sort_values(\"total\", ascending = False)\n",
    "rank_saint_petersburg_13[\"row\"] = np.arange(rank_saint_petersburg_13.shape[0])+1\n",
    "rsp_13 = rank_saint_petersburg_13.loc[rank_saint_petersburg_13.region == \"Saint Petersburg\", \"row\"].values[0]\n",
    "\n",
    "rank_saint_petersburg_16 = pd.DataFrame(df_cleaned[df_cleaned.year==2016])[[\"year\", \"region\", \"total\"]].sort_values(\"total\", ascending = False)\n",
    "rank_saint_petersburg_16[\"row\"] = np.arange(rank_saint_petersburg_16.shape[0])+1\n",
    "rsp_16 = rank_saint_petersburg_16.loc[rank_saint_petersburg_16.region == \"Saint Petersburg\", \"row\"].values[0]\n",
    "\n",
    "print(color.BOLD + \"In 2009, Saint Petersburg ranked: \" + color.RED + f\"No.{rsp_09}\" + color.END + color.BOLD + \" for alcohol sales.\" + color.END)\n",
    "print(color.BOLD + \"In 2013, Saint Petersburg ranked: \" + color.RED + f\"No.{rsp_13}\" + color.END + color.BOLD + \" for alcohol sales.\" + color.END)\n",
    "print(color.BOLD + \"In 2016, Saint Petersburg ranked: \" + color.RED + f\"No.{rsp_16}\" + color.END + color.BOLD + \" for alcohol sales.\" + color.END)\n",
    "\n",
    "\n",
    "\n"
   ]
  },
  {
   "cell_type": "markdown",
   "id": "arctic-claim",
   "metadata": {},
   "source": [
    "There are 83 regions included in the data.  They were the number 1 region for sales in 2009 but by 2016, they've dropped down to 72nd place.\n",
    "\n",
    "Let's explore the % of sales for each type of alcohol compared to the total volumn sold per year."
   ]
  },
  {
   "cell_type": "code",
   "execution_count": 12,
   "id": "varying-tomorrow",
   "metadata": {
    "jupyter": {
     "source_hidden": true
    },
    "tags": []
   },
   "outputs": [
    {
     "data": {
      "image/png": "[encoded data removed]",
      "text/plain": [
       "<Figure size 1440x648 with 12 Axes>"
      ]
     },
     "metadata": {
      "needs_background": "light"
     },
     "output_type": "display_data"
    }
   ],
   "source": [
    "df_eda = df_cleaned[df_cleaned.region == \"Saint Petersburg\"].sort_values(by=[\"region\", \"year\"])\n",
    "\n",
    "df_eda[\"wine\"] = (df_eda.wine / df_eda.total) * 100\n",
    "df_eda[\"beer\"] = (df_eda.beer / df_eda.total) * 100\n",
    "df_eda[\"vodka\"] = (df_eda.vodka / df_eda.total) * 100\n",
    "df_eda[\"champagne\"] = (df_eda.champagne / df_eda.total) * 100\n",
    "df_eda[\"brandy\"] = (df_eda.brandy / df_eda.total) * 100\n",
    "df_eda[\"year\"] = df_eda.year.astype(str)\n",
    "\n",
    "df_eda_wine = pd.pivot_table(df_eda[[\"year\", \"region\", \"wine\"]], values=\"wine\", index=\"region\", columns=[\"year\"])\n",
    "df_eda_beer = pd.pivot_table(df_eda[[\"year\", \"region\", \"beer\"]], values=\"beer\", index=\"region\", columns=[\"year\"])\n",
    "df_eda_vodka = pd.pivot_table(df_eda[[\"year\", \"region\", \"vodka\"]], values=\"vodka\", index=\"region\", columns=[\"year\"])\n",
    "df_eda_champagne = pd.pivot_table(df_eda[[\"year\", \"region\", \"champagne\"]], values=\"champagne\", index=\"region\", columns=[\"year\"])\n",
    "df_eda_brandy = pd.pivot_table(df_eda[[\"year\", \"region\", \"brandy\"]], values=\"brandy\", index=\"region\", columns=[\"year\"])\n",
    "df_eda_total = pd.pivot_table(df_eda[[\"year\", \"region\", \"total\"]], values=\"total\", index=\"region\", columns=[\"year\"])\n",
    "\n",
    "plt.figure(figsize = (20,9))\n",
    "\n",
    "plt.suptitle(\"Heatmap of alcohol sales, as a % of the total for year in Saint Petersburg\")\n",
    "plt.subplot(3, 2, 1)\n",
    "plt.title(\"All alcohol\")\n",
    "sns.heatmap(df_eda_total, vmin = 0, cmap = \"Reds\", linecolor = \"grey\", linewidth = 0.1)\n",
    "\n",
    "plt.subplot(3, 2, 2)\n",
    "plt.title(\"Wine\")\n",
    "sns.heatmap(df_eda_wine, vmin = 0, cmap = \"Blues\", linecolor = \"grey\", linewidth = 0.1)\n",
    "\n",
    "plt.subplot(3, 2, 3)\n",
    "plt.title(\"Beer\")\n",
    "sns.heatmap(df_eda_beer, vmin = 0, cmap = \"Blues\", linecolor = \"grey\", linewidth = 0.1)\n",
    "          \n",
    "plt.subplot(3, 2, 4)\n",
    "plt.title(\"Vodka\")\n",
    "sns.heatmap(df_eda_vodka, vmin = 0, cmap = \"Blues\", linecolor = \"grey\", linewidth = 0.1)\n",
    "\n",
    "plt.subplot(3, 2, 5)\n",
    "plt.title(\"Champagne\")\n",
    "sns.heatmap(df_eda_champagne, vmin = 0, cmap = \"Blues\", linecolor = \"grey\", linewidth = 0.1)\n",
    "\n",
    "plt.subplot(3, 2, 6)\n",
    "plt.title(\"Brandy\")\n",
    "sns.heatmap(df_eda_brandy, vmin = 0, cmap = \"Blues\", linecolor = \"grey\", linewidth = 0.1)\n",
    "\n",
    "plt.tight_layout()\n",
    "plt.show()"
   ]
  },
  {
   "cell_type": "markdown",
   "id": "entitled-blend",
   "metadata": {},
   "source": [
    "This is interesting! \n",
    "\n",
    "Beer sales from **Saint Petersburg** are certainly greater than other alcohols, making up the most of their sales, however this has decreased in recent years, with more residents over the last three to four years buying wine, with a slight increase in champagne and brandy too.\n",
    "\n",
    "Of course, what we don't know is when the wine promotion ran from.  If it ran from 2014 to 2016, then we can certainly see the impact.  If it ran from 2017 onwards (which we have no data for), then Saint Petersburg was targeted well, due to their growing interest in wine in the few years prior.\n",
    "\n",
    "**I'm going to make the assumption that this task is up to date, i.e. the wine promotion ran from 2017 onwards and we're therefore looking for other regions who;**\n",
    " - Have a low volumns of sales,\n",
    " - Out of the sales, they spend a little on wine\n",
    " - The spending on wine has started to increase in recent years\n",
    "\n",
    "This is because, whilst the % of wine sales in Saint Petersburg has increased around 2014 to 2016, there's not a noticeable increase where I'd consider a campaign to be a huge success that you want to replicate.\n"
   ]
  },
  {
   "cell_type": "markdown",
   "id": "careful-shipping",
   "metadata": {
    "tags": []
   },
   "source": [
    "## 3. Clustering similar regions to Saint Petersburg\n",
    "### 3.1 K-Means\n",
    "\n",
    "To start, we're going to use K-Means clustering to identify regions that are similar to Saint Petersburg.\n",
    "\n",
    "To do this, we'll need to pre-process the data to focus on each region over the years. We'll also focus on the % of sales for each regions total."
   ]
  },
  {
   "cell_type": "code",
   "execution_count": 13,
   "id": "precise-injury",
   "metadata": {
    "jupyter": {
     "source_hidden": true
    },
    "tags": []
   },
   "outputs": [],
   "source": [
    "regions = df_cleaned.region\n",
    "df_groupings = pd.DataFrame(regions).drop_duplicates()"
   ]
  },
  {
   "cell_type": "code",
   "execution_count": 14,
   "id": "parental-munich",
   "metadata": {
    "jupyter": {
     "source_hidden": true
    },
    "tags": []
   },
   "outputs": [
    {
     "name": "stdout",
     "output_type": "stream",
     "text": [
      "\u001b[1m\u001b[4mSaint Petersburg's pre-processed data.\u001b[0m\n"
     ]
    },
    {
     "data": {
      "text/html": [
       "<div>\n",
       "<style scoped>\n",
       "    .dataframe tbody tr th:only-of-type {\n",
       "        vertical-align: middle;\n",
       "    }\n",
       "\n",
       "    .dataframe tbody tr th {\n",
       "        vertical-align: top;\n",
       "    }\n",
       "\n",
       "    .dataframe thead tr th {\n",
       "        text-align: left;\n",
       "    }\n",
       "\n",
       "    .dataframe thead tr:last-of-type th {\n",
       "        text-align: right;\n",
       "    }\n",
       "</style>\n",
       "<table border=\"1\" class=\"dataframe\">\n",
       "  <thead>\n",
       "    <tr>\n",
       "      <th></th>\n",
       "      <th colspan=\"21\" halign=\"left\">value</th>\n",
       "    </tr>\n",
       "    <tr>\n",
       "      <th>variable</th>\n",
       "      <th colspan=\"6\" halign=\"left\">wine</th>\n",
       "      <th colspan=\"4\" halign=\"left\">beer</th>\n",
       "      <th>...</th>\n",
       "      <th colspan=\"4\" halign=\"left\">champagne</th>\n",
       "      <th colspan=\"6\" halign=\"left\">brandy</th>\n",
       "    </tr>\n",
       "    <tr>\n",
       "      <th>year</th>\n",
       "      <th>2011</th>\n",
       "      <th>2012</th>\n",
       "      <th>2013</th>\n",
       "      <th>2014</th>\n",
       "      <th>2015</th>\n",
       "      <th>2016</th>\n",
       "      <th>2011</th>\n",
       "      <th>2012</th>\n",
       "      <th>2013</th>\n",
       "      <th>2014</th>\n",
       "      <th>...</th>\n",
       "      <th>2013</th>\n",
       "      <th>2014</th>\n",
       "      <th>2015</th>\n",
       "      <th>2016</th>\n",
       "      <th>2011</th>\n",
       "      <th>2012</th>\n",
       "      <th>2013</th>\n",
       "      <th>2014</th>\n",
       "      <th>2015</th>\n",
       "      <th>2016</th>\n",
       "    </tr>\n",
       "    <tr>\n",
       "      <th>region</th>\n",
       "      <th></th>\n",
       "      <th></th>\n",
       "      <th></th>\n",
       "      <th></th>\n",
       "      <th></th>\n",
       "      <th></th>\n",
       "      <th></th>\n",
       "      <th></th>\n",
       "      <th></th>\n",
       "      <th></th>\n",
       "      <th></th>\n",
       "      <th></th>\n",
       "      <th></th>\n",
       "      <th></th>\n",
       "      <th></th>\n",
       "      <th></th>\n",
       "      <th></th>\n",
       "      <th></th>\n",
       "      <th></th>\n",
       "      <th></th>\n",
       "      <th></th>\n",
       "    </tr>\n",
       "  </thead>\n",
       "  <tbody>\n",
       "    <tr>\n",
       "      <th>Saint Petersburg</th>\n",
       "      <td>0.067199</td>\n",
       "      <td>0.081716</td>\n",
       "      <td>0.110032</td>\n",
       "      <td>0.132472</td>\n",
       "      <td>0.14808</td>\n",
       "      <td>0.141434</td>\n",
       "      <td>0.807655</td>\n",
       "      <td>0.78856</td>\n",
       "      <td>0.71521</td>\n",
       "      <td>0.675283</td>\n",
       "      <td>...</td>\n",
       "      <td>0.042071</td>\n",
       "      <td>0.04685</td>\n",
       "      <td>0.042048</td>\n",
       "      <td>0.037849</td>\n",
       "      <td>0.011005</td>\n",
       "      <td>0.013279</td>\n",
       "      <td>0.016181</td>\n",
       "      <td>0.021002</td>\n",
       "      <td>0.023766</td>\n",
       "      <td>0.023904</td>\n",
       "    </tr>\n",
       "  </tbody>\n",
       "</table>\n",
       "<p>1 rows × 30 columns</p>\n",
       "</div>"
      ],
      "text/plain": [
       "                     value                                                   \\\n",
       "variable              wine                                                    \n",
       "year                  2011      2012      2013      2014     2015      2016   \n",
       "region                                                                        \n",
       "Saint Petersburg  0.067199  0.081716  0.110032  0.132472  0.14808  0.141434   \n",
       "\n",
       "                                                        ...            \\\n",
       "variable              beer                              ... champagne   \n",
       "year                  2011     2012     2013      2014  ...      2013   \n",
       "region                                                  ...             \n",
       "Saint Petersburg  0.807655  0.78856  0.71521  0.675283  ...  0.042071   \n",
       "\n",
       "                                                                             \\\n",
       "variable                                         brandy                       \n",
       "year                 2014      2015      2016      2011      2012      2013   \n",
       "region                                                                        \n",
       "Saint Petersburg  0.04685  0.042048  0.037849  0.011005  0.013279  0.016181   \n",
       "\n",
       "                                                \n",
       "variable                                        \n",
       "year                  2014      2015      2016  \n",
       "region                                          \n",
       "Saint Petersburg  0.021002  0.023766  0.023904  \n",
       "\n",
       "[1 rows x 30 columns]"
      ]
     },
     "execution_count": 14,
     "metadata": {},
     "output_type": "execute_result"
    }
   ],
   "source": [
    "df_prepro = df_cleaned.copy()\n",
    "df_prepro[\"region\"] = df_prepro.region.astype(\"category\")\n",
    "df_prepro = df_prepro[df_prepro.year > 2010]\n",
    "\n",
    "df_prepro[\"wine\"] = (df_prepro.wine / df_prepro.total)\n",
    "df_prepro[\"beer\"] = (df_prepro.beer / df_prepro.total)\n",
    "df_prepro[\"vodka\"] = (df_prepro.vodka / df_prepro.total)\n",
    "df_prepro[\"champagne\"] = (df_prepro.champagne / df_prepro.total)\n",
    "df_prepro[\"brandy\"] = (df_prepro.brandy / df_prepro.total)\n",
    "\n",
    "\n",
    "df_prepro = df_prepro.melt(id_vars = [\"region\", \"year\"], value_vars = [\"wine\", \"beer\", \"vodka\", \"champagne\", \"brandy\"]).pivot(values = [\"value\"], index = \"region\", columns = [\"variable\", \"year\"])\n",
    "print(color.HEADER + \"Saint Petersburg's pre-processed data.\" + color.END)\n",
    "df_prepro[df_prepro.index == \"Saint Petersburg\"]"
   ]
  },
  {
   "cell_type": "markdown",
   "id": "geological-place",
   "metadata": {},
   "source": [
    "We'll now run a **K-Means** model over this data, with a range of clusters, to see which one fits best."
   ]
  },
  {
   "cell_type": "code",
   "execution_count": 15,
   "id": "relative-pursuit",
   "metadata": {
    "jupyter": {
     "source_hidden": true
    },
    "tags": []
   },
   "outputs": [
    {
     "data": {
      "image/png": "[encoded data removed]",
      "text/plain": [
       "<Figure size 1440x288 with 1 Axes>"
      ]
     },
     "metadata": {
      "needs_background": "light"
     },
     "output_type": "display_data"
    }
   ],
   "source": [
    "ks = range(1, 11)\n",
    "inertias = []\n",
    "models = []\n",
    "models.append(np.nan)\n",
    "\n",
    "for k in ks:\n",
    "    # Create a KMeans instance with k clusters: model\n",
    "    model = KMeans(n_clusters = k, random_state = 42)\n",
    "    models.append(model)\n",
    "    # Fit model to samples\n",
    "    model.fit(df_prepro)\n",
    "    \n",
    "    # Append the inertia to the list of inertias\n",
    "    inertias.append(model.inertia_)\n",
    "    \n",
    "# Plot ks vs inertias\n",
    "plt.figure(figsize = (20,4))\n",
    "plt.plot(ks, inertias, '-o')\n",
    "plt.title(\"Elbow plot showing the inertia for each K CLuster\")\n",
    "plt.xlabel('number of clusters, k')\n",
    "plt.ylabel('inertia')\n",
    "plt.xticks(ks)\n",
    "plt.show()\n"
   ]
  },
  {
   "cell_type": "markdown",
   "id": "numeric-colon",
   "metadata": {},
   "source": [
    "We now need to decide how many clusters are best.\n",
    "\n",
    "We're looking for 10 similar regions to Saint Petersburg.  Based on the number of regions, clusting our data into 6 or 7 groups would be ideal.  Lets try 6 clusters."
   ]
  },
  {
   "cell_type": "code",
   "execution_count": 16,
   "id": "racial-sigma",
   "metadata": {
    "tags": []
   },
   "outputs": [
    {
     "name": "stdout",
     "output_type": "stream",
     "text": [
      "\u001b[1mK Means of 6 results in Saint Petersburg being in a group of: 11\u001b[0m\n"
     ]
    },
    {
     "data": {
      "text/html": [
       "<div>\n",
       "<style scoped>\n",
       "    .dataframe tbody tr th:only-of-type {\n",
       "        vertical-align: middle;\n",
       "    }\n",
       "\n",
       "    .dataframe tbody tr th {\n",
       "        vertical-align: top;\n",
       "    }\n",
       "\n",
       "    .dataframe thead th {\n",
       "        text-align: right;\n",
       "    }\n",
       "</style>\n",
       "<table border=\"1\" class=\"dataframe\">\n",
       "  <thead>\n",
       "    <tr style=\"text-align: right;\">\n",
       "      <th></th>\n",
       "      <th>region</th>\n",
       "      <th>label</th>\n",
       "    </tr>\n",
       "  </thead>\n",
       "  <tbody>\n",
       "    <tr>\n",
       "      <th>1</th>\n",
       "      <td>Altai Republic</td>\n",
       "      <td>4</td>\n",
       "    </tr>\n",
       "    <tr>\n",
       "      <th>22</th>\n",
       "      <td>Komi Republic</td>\n",
       "      <td>4</td>\n",
       "    </tr>\n",
       "    <tr>\n",
       "      <th>23</th>\n",
       "      <td>Kostroma Oblast</td>\n",
       "      <td>4</td>\n",
       "    </tr>\n",
       "    <tr>\n",
       "      <th>28</th>\n",
       "      <td>Leningrad Oblast</td>\n",
       "      <td>4</td>\n",
       "    </tr>\n",
       "    <tr>\n",
       "      <th>46</th>\n",
       "      <td>Republic of Adygea</td>\n",
       "      <td>4</td>\n",
       "    </tr>\n",
       "    <tr>\n",
       "      <th>49</th>\n",
       "      <td>Republic of Crimea</td>\n",
       "      <td>4</td>\n",
       "    </tr>\n",
       "    <tr>\n",
       "      <th>54</th>\n",
       "      <td>Republic of Mordovia</td>\n",
       "      <td>4</td>\n",
       "    </tr>\n",
       "    <tr>\n",
       "      <th>59</th>\n",
       "      <td>Saint Petersburg</td>\n",
       "      <td>4</td>\n",
       "    </tr>\n",
       "    <tr>\n",
       "      <th>78</th>\n",
       "      <td>Vologda Oblast</td>\n",
       "      <td>4</td>\n",
       "    </tr>\n",
       "    <tr>\n",
       "      <th>81</th>\n",
       "      <td>Yaroslavl Oblast</td>\n",
       "      <td>4</td>\n",
       "    </tr>\n",
       "    <tr>\n",
       "      <th>82</th>\n",
       "      <td>Zabaykalsky Krai</td>\n",
       "      <td>4</td>\n",
       "    </tr>\n",
       "  </tbody>\n",
       "</table>\n",
       "</div>"
      ],
      "text/plain": [
       "                  region  label\n",
       "1         Altai Republic      4\n",
       "22         Komi Republic      4\n",
       "23       Kostroma Oblast      4\n",
       "28      Leningrad Oblast      4\n",
       "46    Republic of Adygea      4\n",
       "49    Republic of Crimea      4\n",
       "54  Republic of Mordovia      4\n",
       "59      Saint Petersburg      4\n",
       "78        Vologda Oblast      4\n",
       "81      Yaroslavl Oblast      4\n",
       "82      Zabaykalsky Krai      4"
      ]
     },
     "execution_count": 16,
     "metadata": {},
     "output_type": "execute_result"
    }
   ],
   "source": [
    "region_labels = pd.DataFrame(df_prepro.index)\n",
    "region_labels[\"label\"] = models[6].labels_\n",
    "label_SP = region_labels.loc[region_labels.region == \"Saint Petersburg\", \"label\"].values[0]\n",
    "print(color.BOLD + f\"K Means of 6 results in Saint Petersburg being in a group of: {len(region_labels[region_labels.label == label_SP])}\" + color.END)\n",
    "region_labels = region_labels[region_labels.label == label_SP]\n",
    "region_labels\n"
   ]
  },
  {
   "cell_type": "markdown",
   "id": "serious-archive",
   "metadata": {},
   "source": [
    "Perfect! This is just the number we were looking for.  I wonder how these regions compare to Saint Petersburg?"
   ]
  },
  {
   "cell_type": "markdown",
   "id": "metallic-jefferson",
   "metadata": {},
   "source": [
    "**CHANGE THE BELOW PLOT TO SHOW EXAMPLES OF THE K MEANS EFFECTIVENESS**"
   ]
  },
  {
   "cell_type": "code",
   "execution_count": 17,
   "id": "amber-travel",
   "metadata": {
    "jupyter": {
     "source_hidden": true
    },
    "tags": []
   },
   "outputs": [
    {
     "data": {
      "image/png": "[encoded data removed]",
      "text/plain": [
       "<Figure size 1440x288 with 4 Axes>"
      ]
     },
     "metadata": {
      "needs_background": "light"
     },
     "output_type": "display_data"
    },
    {
     "data": {
      "image/png": "[encoded data removed]",
      "text/plain": [
       "<Figure size 1440x288 with 4 Axes>"
      ]
     },
     "metadata": {
      "needs_background": "light"
     },
     "output_type": "display_data"
    },
    {
     "data": {
      "image/png": "[encoded data removed]",
      "text/plain": [
       "<Figure size 1440x288 with 4 Axes>"
      ]
     },
     "metadata": {
      "needs_background": "light"
     },
     "output_type": "display_data"
    }
   ],
   "source": [
    "df_eda2 = df_cleaned[df_cleaned.region.isin(region_labels.region)].sort_values(by=[\"region\", \"year\"])\n",
    "df_eda2[\"wine\"] = (df_eda2.wine / df_eda2.total) * 100\n",
    "df_eda2[\"year\"] = df_eda2.year.astype(str)\n",
    "df_eda2 = df_eda2[[\"year\", \"region\", \"wine\", \"total\"]].reset_index(drop=True)\n",
    "\n",
    "\n",
    "r1 = df_eda2[df_eda2.region==region_labels.reset_index(drop=True).region[1]]\n",
    "df_eda_total_r1 = pd.pivot_table(r1[[\"year\", \"region\", \"total\"]], values=\"total\", index=\"region\", columns=[\"year\"])\n",
    "df_eda_wine_r1 = pd.pivot_table(r1[[\"year\", \"region\", \"wine\"]], values=\"wine\", index=\"region\", columns=[\"year\"])\n",
    "\n",
    "r2 = df_eda2[df_eda2.region==region_labels.reset_index(drop=True).region[6]]\n",
    "df_eda_total_r2 = pd.pivot_table(r2[[\"year\", \"region\", \"total\"]], values=\"total\", index=\"region\", columns=[\"year\"])\n",
    "df_eda_wine_r2 = pd.pivot_table(r2[[\"year\", \"region\", \"wine\"]], values=\"wine\", index=\"region\", columns=[\"year\"])\n",
    "\n",
    "r3 = df_eda2[df_eda2.region==region_labels.reset_index(drop=True).region[2]]\n",
    "df_eda_total_r3 = pd.pivot_table(r3[[\"year\", \"region\", \"total\"]], values=\"total\", index=\"region\", columns=[\"year\"])\n",
    "df_eda_wine_r3 = pd.pivot_table(r3[[\"year\", \"region\", \"wine\"]], values=\"wine\", index=\"region\", columns=[\"year\"])\n",
    "\n",
    "\n",
    "\n",
    "plt.figure(figsize = (20,4))\n",
    "\n",
    "plt.suptitle(f\"Heatmap of alcohol sales, as a % of the total for year in {df_eda_total_r1.index[0]}\")\n",
    "plt.subplot(1, 2, 1)\n",
    "plt.title(\"All alcohol\")\n",
    "sns.heatmap(df_eda_total_r1, vmin = 0, cmap = \"Reds\", linecolor = \"grey\", linewidth = 0.1)\n",
    "\n",
    "plt.subplot(1, 2, 2)\n",
    "plt.title(\"Wine\")\n",
    "sns.heatmap(df_eda_wine_r1, vmin = 0, cmap = \"Blues\", linecolor = \"grey\", linewidth = 0.1)\n",
    "\n",
    "plt.tight_layout()\n",
    "plt.show()\n",
    "\n",
    "\n",
    "plt.figure(figsize = (20,4))\n",
    "\n",
    "plt.suptitle(f\"Heatmap of alcohol sales, as a % of the total for year in {df_eda_total_r2.index[0]}\")\n",
    "plt.subplot(1, 2, 1)\n",
    "plt.title(\"All alcohol\")\n",
    "sns.heatmap(df_eda_total_r2, vmin = 0, cmap = \"Reds\", linecolor = \"grey\", linewidth = 0.1)\n",
    "\n",
    "plt.subplot(1, 2, 2)\n",
    "plt.title(\"Wine\")\n",
    "sns.heatmap(df_eda_wine_r2, vmin = 0, cmap = \"Blues\", linecolor = \"grey\", linewidth = 0.1)\n",
    "\n",
    "plt.tight_layout()\n",
    "plt.show()\n",
    "\n",
    "\n",
    "\n",
    "plt.figure(figsize = (20,4))\n",
    "\n",
    "plt.suptitle(f\"Heatmap of alcohol sales, as a % of the total for year in {df_eda_total_r2.index[0]}\")\n",
    "plt.subplot(1, 2, 1)\n",
    "plt.title(\"All alcohol\")\n",
    "sns.heatmap(df_eda_total_r3, vmin = 0, cmap = \"Reds\", linecolor = \"grey\", linewidth = 0.1)\n",
    "\n",
    "plt.subplot(1, 2, 2)\n",
    "plt.title(\"Wine\")\n",
    "sns.heatmap(df_eda_wine_r3, vmin = 0, cmap = \"Blues\", linecolor = \"grey\", linewidth = 0.1)\n",
    "\n",
    "plt.tight_layout()\n",
    "plt.show()"
   ]
  },
  {
   "cell_type": "markdown",
   "id": "intimate-cornwall",
   "metadata": {},
   "source": [
    "This looks good.  We've picked three regions from the K-Means model and visually they look similar\n",
    " - There were previously higher sales\n",
    " - The recent wine sales has started to increase in recent years\n",
    " - The total % of wine sales are relatively low in comparision to the regions total sales."
   ]
  },
  {
   "cell_type": "code",
   "execution_count": 18,
   "id": "simplified-zimbabwe",
   "metadata": {
    "jupyter": {
     "source_hidden": true
    },
    "tags": []
   },
   "outputs": [],
   "source": [
    "df_groupings[\"kmeans\"] = df_groupings.region.isin(region_labels.region)"
   ]
  },
  {
   "cell_type": "markdown",
   "id": "competent-commodity",
   "metadata": {
    "tags": []
   },
   "source": [
    "### 3.2 RFM\n",
    "\n",
    "I'm unsure how effective RFM (recency, frequency, monetary) clustering will be.  This is because we're not looking at individual customer orders. However, it might still give us some interesting insight:\n",
    " - We'll focus on the latest year (2016) - only.\n",
    " - The recency will always be '1' because each region left in our dataframe has purchased alcohol in 2016.\n",
    " - We'll set the frequency to be the percentage of sales that was wine per region\n",
    " - We'll set the monetry to the sale of wine in litres by year per captia"
   ]
  },
  {
   "cell_type": "code",
   "execution_count": 19,
   "id": "legal-seven",
   "metadata": {
    "jupyter": {
     "source_hidden": true
    },
    "tags": []
   },
   "outputs": [
    {
     "name": "stdout",
     "output_type": "stream",
     "text": [
      "\u001b[1m\u001b[4mRFM table for each region that as the same score as Saint Petersburg\u001b[0m\n"
     ]
    },
    {
     "data": {
      "text/html": [
       "<div>\n",
       "<style scoped>\n",
       "    .dataframe tbody tr th:only-of-type {\n",
       "        vertical-align: middle;\n",
       "    }\n",
       "\n",
       "    .dataframe tbody tr th {\n",
       "        vertical-align: top;\n",
       "    }\n",
       "\n",
       "    .dataframe thead th {\n",
       "        text-align: right;\n",
       "    }\n",
       "</style>\n",
       "<table border=\"1\" class=\"dataframe\">\n",
       "  <thead>\n",
       "    <tr style=\"text-align: right;\">\n",
       "      <th></th>\n",
       "      <th>monetary</th>\n",
       "      <th>frequency</th>\n",
       "      <th>recency</th>\n",
       "      <th>r_quartile</th>\n",
       "      <th>f_quartile</th>\n",
       "      <th>m_quartile</th>\n",
       "      <th>RFM_Score</th>\n",
       "    </tr>\n",
       "    <tr>\n",
       "      <th>region</th>\n",
       "      <th></th>\n",
       "      <th></th>\n",
       "      <th></th>\n",
       "      <th></th>\n",
       "      <th></th>\n",
       "      <th></th>\n",
       "      <th></th>\n",
       "    </tr>\n",
       "  </thead>\n",
       "  <tbody>\n",
       "    <tr>\n",
       "      <th>Bryansk Oblast</th>\n",
       "      <td>7.0</td>\n",
       "      <td>0.146138</td>\n",
       "      <td>1</td>\n",
       "      <td>1</td>\n",
       "      <td>1</td>\n",
       "      <td>2</td>\n",
       "      <td>112</td>\n",
       "    </tr>\n",
       "    <tr>\n",
       "      <th>Lipetsk Oblast</th>\n",
       "      <td>6.2</td>\n",
       "      <td>0.119231</td>\n",
       "      <td>1</td>\n",
       "      <td>1</td>\n",
       "      <td>1</td>\n",
       "      <td>2</td>\n",
       "      <td>112</td>\n",
       "    </tr>\n",
       "    <tr>\n",
       "      <th>Oryol Oblast</th>\n",
       "      <td>6.4</td>\n",
       "      <td>0.113475</td>\n",
       "      <td>1</td>\n",
       "      <td>1</td>\n",
       "      <td>1</td>\n",
       "      <td>2</td>\n",
       "      <td>112</td>\n",
       "    </tr>\n",
       "    <tr>\n",
       "      <th>Ryazan Oblast</th>\n",
       "      <td>6.3</td>\n",
       "      <td>0.116451</td>\n",
       "      <td>1</td>\n",
       "      <td>1</td>\n",
       "      <td>1</td>\n",
       "      <td>2</td>\n",
       "      <td>112</td>\n",
       "    </tr>\n",
       "    <tr>\n",
       "      <th>Saint Petersburg</th>\n",
       "      <td>7.1</td>\n",
       "      <td>0.141434</td>\n",
       "      <td>1</td>\n",
       "      <td>1</td>\n",
       "      <td>1</td>\n",
       "      <td>2</td>\n",
       "      <td>112</td>\n",
       "    </tr>\n",
       "    <tr>\n",
       "      <th>Zabaykalsky Krai</th>\n",
       "      <td>6.4</td>\n",
       "      <td>0.141593</td>\n",
       "      <td>1</td>\n",
       "      <td>1</td>\n",
       "      <td>1</td>\n",
       "      <td>2</td>\n",
       "      <td>112</td>\n",
       "    </tr>\n",
       "  </tbody>\n",
       "</table>\n",
       "</div>"
      ],
      "text/plain": [
       "                  monetary  frequency  recency  r_quartile f_quartile  \\\n",
       "region                                                                  \n",
       "Bryansk Oblast         7.0   0.146138        1           1          1   \n",
       "Lipetsk Oblast         6.2   0.119231        1           1          1   \n",
       "Oryol Oblast           6.4   0.113475        1           1          1   \n",
       "Ryazan Oblast          6.3   0.116451        1           1          1   \n",
       "Saint Petersburg       7.1   0.141434        1           1          1   \n",
       "Zabaykalsky Krai       6.4   0.141593        1           1          1   \n",
       "\n",
       "                 m_quartile RFM_Score  \n",
       "region                                 \n",
       "Bryansk Oblast            2       112  \n",
       "Lipetsk Oblast            2       112  \n",
       "Oryol Oblast              2       112  \n",
       "Ryazan Oblast             2       112  \n",
       "Saint Petersburg          2       112  \n",
       "Zabaykalsky Krai          2       112  "
      ]
     },
     "execution_count": 19,
     "metadata": {},
     "output_type": "execute_result"
    }
   ],
   "source": [
    "df_RFM = df_cleaned.copy()\n",
    "df_RFM[\"region\"] = df_RFM.region.astype(\"category\")\n",
    "df_RFM = df_RFM[df_RFM.year == 2016]\n",
    "df_RFM[\"wine_pct\"] = (df_RFM.wine / df_RFM.total)\n",
    "\n",
    "\n",
    "\n",
    "df_RFM = df_RFM.melt(id_vars = [\"region\"], \n",
    "                     value_vars = [\"wine\", \"wine_pct\"]) \\\n",
    "              .pivot(values = [\"value\"], index = \"region\", columns = [\"variable\"])\n",
    "df_RFM.columns = [\"monetary\", \"frequency\"]\n",
    "df_RFM[\"recency\"] = 1\n",
    "\n",
    "df_RFM['r_quartile'] = 1\n",
    "df_RFM['f_quartile'] = pd.qcut(df_RFM['frequency'], 4, ['4','3','2','1'])\n",
    "df_RFM['m_quartile'] = pd.qcut(df_RFM['monetary'], 4, ['4','3','2','1'])\n",
    "\n",
    "\n",
    "df_RFM['RFM_Score'] = df_RFM.r_quartile.astype(str)+ df_RFM.f_quartile.astype(str) + df_RFM.m_quartile.astype(str)\n",
    "\n",
    "rfm_score = df_RFM.loc[df_RFM.index == \"Saint Petersburg\"].RFM_Score[0]\n",
    "df_RFM = df_RFM[df_RFM.RFM_Score == rfm_score]\n",
    "print(color.HEADER + \"RFM table for each region that as the same score as Saint Petersburg\" + color.END)\n",
    "df_RFM\n"
   ]
  },
  {
   "cell_type": "code",
   "execution_count": 20,
   "id": "north-joint",
   "metadata": {
    "jupyter": {
     "source_hidden": true
    },
    "tags": []
   },
   "outputs": [],
   "source": [
    "df_groupings[\"rfm\"] = df_groupings.region.isin(df_RFM.index)"
   ]
  },
  {
   "cell_type": "markdown",
   "id": "stable-monitor",
   "metadata": {},
   "source": [
    "### 3.3 NMF (Non-Negative Matrix Factorization)\n",
    "\n",
    "For our third and final model, we'll use an NMF to see which regions appear most like Saint Petersburg.\n",
    "\n",
    "We'll prepare our data before transforming it into a CSR_Matrix.  We'll then use a pipeline to scale the data and normalize it."
   ]
  },
  {
   "cell_type": "code",
   "execution_count": 21,
   "id": "answering-chance",
   "metadata": {
    "jupyter": {
     "source_hidden": true
    },
    "tags": []
   },
   "outputs": [
    {
     "name": "stdout",
     "output_type": "stream",
     "text": [
      "\u001b[1m\u001b[4mDataframe prior to scaling and normalization\u001b[0m\n"
     ]
    },
    {
     "data": {
      "text/html": [
       "<div>\n",
       "<style scoped>\n",
       "    .dataframe tbody tr th:only-of-type {\n",
       "        vertical-align: middle;\n",
       "    }\n",
       "\n",
       "    .dataframe tbody tr th {\n",
       "        vertical-align: top;\n",
       "    }\n",
       "\n",
       "    .dataframe thead th {\n",
       "        text-align: right;\n",
       "    }\n",
       "</style>\n",
       "<table border=\"1\" class=\"dataframe\">\n",
       "  <thead>\n",
       "    <tr style=\"text-align: right;\">\n",
       "      <th></th>\n",
       "      <th>wine</th>\n",
       "      <th>beer</th>\n",
       "      <th>vodka</th>\n",
       "      <th>champagne</th>\n",
       "      <th>brandy</th>\n",
       "    </tr>\n",
       "    <tr>\n",
       "      <th>region</th>\n",
       "      <th></th>\n",
       "      <th></th>\n",
       "      <th></th>\n",
       "      <th></th>\n",
       "      <th></th>\n",
       "    </tr>\n",
       "  </thead>\n",
       "  <tbody>\n",
       "    <tr>\n",
       "      <th>Republic of Adygea</th>\n",
       "      <td>3.6</td>\n",
       "      <td>27.3</td>\n",
       "      <td>3.6</td>\n",
       "      <td>1.0</td>\n",
       "      <td>0.5</td>\n",
       "    </tr>\n",
       "    <tr>\n",
       "      <th>Altai Krai</th>\n",
       "      <td>4.8</td>\n",
       "      <td>37.3</td>\n",
       "      <td>4.5</td>\n",
       "      <td>0.7</td>\n",
       "      <td>0.3</td>\n",
       "    </tr>\n",
       "    <tr>\n",
       "      <th>Amur Oblast</th>\n",
       "      <td>6.2</td>\n",
       "      <td>46.9</td>\n",
       "      <td>6.0</td>\n",
       "      <td>1.3</td>\n",
       "      <td>0.5</td>\n",
       "    </tr>\n",
       "    <tr>\n",
       "      <th>Arkhangelsk Oblast</th>\n",
       "      <td>8.4</td>\n",
       "      <td>51.6</td>\n",
       "      <td>12.2</td>\n",
       "      <td>1.8</td>\n",
       "      <td>0.9</td>\n",
       "    </tr>\n",
       "    <tr>\n",
       "      <th>Astrakhan Oblast</th>\n",
       "      <td>4.5</td>\n",
       "      <td>38.3</td>\n",
       "      <td>4.5</td>\n",
       "      <td>0.9</td>\n",
       "      <td>0.6</td>\n",
       "    </tr>\n",
       "    <tr>\n",
       "      <th>...</th>\n",
       "      <td>...</td>\n",
       "      <td>...</td>\n",
       "      <td>...</td>\n",
       "      <td>...</td>\n",
       "      <td>...</td>\n",
       "    </tr>\n",
       "    <tr>\n",
       "      <th>Chuvash Republic</th>\n",
       "      <td>5.0</td>\n",
       "      <td>42.3</td>\n",
       "      <td>7.7</td>\n",
       "      <td>0.7</td>\n",
       "      <td>0.4</td>\n",
       "    </tr>\n",
       "    <tr>\n",
       "      <th>Chukotka Autonomous Okrug</th>\n",
       "      <td>3.9</td>\n",
       "      <td>34.0</td>\n",
       "      <td>11.6</td>\n",
       "      <td>1.8</td>\n",
       "      <td>1.1</td>\n",
       "    </tr>\n",
       "    <tr>\n",
       "      <th>Sakha (Yakutia) Republic</th>\n",
       "      <td>4.3</td>\n",
       "      <td>56.1</td>\n",
       "      <td>8.2</td>\n",
       "      <td>1.8</td>\n",
       "      <td>0.5</td>\n",
       "    </tr>\n",
       "    <tr>\n",
       "      <th>Yamalo-Nenets Autonomous Okrug</th>\n",
       "      <td>4.5</td>\n",
       "      <td>75.8</td>\n",
       "      <td>8.2</td>\n",
       "      <td>1.7</td>\n",
       "      <td>1.3</td>\n",
       "    </tr>\n",
       "    <tr>\n",
       "      <th>Yaroslavl Oblast</th>\n",
       "      <td>10.2</td>\n",
       "      <td>38.0</td>\n",
       "      <td>8.9</td>\n",
       "      <td>1.4</td>\n",
       "      <td>1.0</td>\n",
       "    </tr>\n",
       "  </tbody>\n",
       "</table>\n",
       "<p>83 rows × 5 columns</p>\n",
       "</div>"
      ],
      "text/plain": [
       "                                wine  beer  vodka  champagne  brandy\n",
       "region                                                              \n",
       "Republic of Adygea               3.6  27.3    3.6        1.0     0.5\n",
       "Altai Krai                       4.8  37.3    4.5        0.7     0.3\n",
       "Amur Oblast                      6.2  46.9    6.0        1.3     0.5\n",
       "Arkhangelsk Oblast               8.4  51.6   12.2        1.8     0.9\n",
       "Astrakhan Oblast                 4.5  38.3    4.5        0.9     0.6\n",
       "...                              ...   ...    ...        ...     ...\n",
       "Chuvash Republic                 5.0  42.3    7.7        0.7     0.4\n",
       "Chukotka Autonomous Okrug        3.9  34.0   11.6        1.8     1.1\n",
       "Sakha (Yakutia) Republic         4.3  56.1    8.2        1.8     0.5\n",
       "Yamalo-Nenets Autonomous Okrug   4.5  75.8    8.2        1.7     1.3\n",
       "Yaroslavl Oblast                10.2  38.0    8.9        1.4     1.0\n",
       "\n",
       "[83 rows x 5 columns]"
      ]
     },
     "execution_count": 21,
     "metadata": {},
     "output_type": "execute_result"
    }
   ],
   "source": [
    "df_CSR = df_cleaned\n",
    "df_CSR = df_CSR[df_CSR.year == 2016].set_index(\"region\")\n",
    "df_CSR = df_CSR[[\"wine\", \"beer\", \"vodka\", \"champagne\", \"brandy\"]]\n",
    "print(color.HEADER + \"Dataframe prior to scaling and normalization\" + color.END)\n",
    "df_CSR"
   ]
  },
  {
   "cell_type": "code",
   "execution_count": 22,
   "id": "antique-victim",
   "metadata": {
    "jupyter": {
     "source_hidden": true
    },
    "tags": []
   },
   "outputs": [],
   "source": [
    "dataset = csr_matrix(df_CSR)\n",
    "\n",
    "scaler = MaxAbsScaler()\n",
    "\n",
    "nmf = NMF(n_components = 20)\n",
    "\n",
    "normalizer = Normalizer()\n",
    "\n",
    "pipeline = make_pipeline(scaler, nmf, normalizer)\n",
    "\n",
    "norm_features = pipeline.fit_transform(dataset)\n"
   ]
  },
  {
   "cell_type": "code",
   "execution_count": 23,
   "id": "dense-capital",
   "metadata": {
    "jupyter": {
     "source_hidden": true
    },
    "tags": []
   },
   "outputs": [
    {
     "name": "stdout",
     "output_type": "stream",
     "text": [
      "\u001b[1m\u001b[4mWhich regions are most like Saint Petersburg?\u001b[0m\n"
     ]
    },
    {
     "data": {
      "text/plain": [
       "region\n",
       "Saint Petersburg            1.000000\n",
       "Volgograd Oblast            0.932750\n",
       "Amur Oblast                 0.927541\n",
       "Rostov Oblast               0.927244\n",
       "Tula Oblast                 0.924484\n",
       "Chelyabinsk Oblast          0.914635\n",
       "Stavropol Krai              0.911600\n",
       "Republic of Tatarstan       0.908741\n",
       "Primorsky Krai              0.902622\n",
       "Jewish Autonomous Oblast    0.899825\n",
       "Leningrad Oblast            0.899408\n",
       "Name: 0, dtype: float64"
      ]
     },
     "execution_count": 23,
     "metadata": {},
     "output_type": "execute_result"
    }
   ],
   "source": [
    "# Create a DataFrame: df\n",
    "dataframe = pd.DataFrame(norm_features, index = df_prepro.index)\n",
    "region = dataframe.loc[\"Saint Petersburg\"]\n",
    "\n",
    "similarities = dataframe.dot(region)\n",
    "df_NMF_rank = pd.DataFrame(similarities).reset_index()\n",
    "df_NMF_rank = df_NMF_rank.set_index(\"region\")[0].nlargest(n=11)\n",
    "print(color.HEADER + \"Which regions are most like Saint Petersburg?\" + color.END)\n",
    "df_NMF_rank"
   ]
  },
  {
   "cell_type": "code",
   "execution_count": 24,
   "id": "above-cover",
   "metadata": {
    "jupyter": {
     "source_hidden": true
    },
    "tags": []
   },
   "outputs": [],
   "source": [
    "df_groupings[\"nmf\"] = df_groupings.region.isin(df_NMF_rank.index)"
   ]
  },
  {
   "cell_type": "markdown",
   "id": "recorded-vision",
   "metadata": {},
   "source": [
    "## 4.0 Analysis of outcomes\n",
    "Great.  We've now completed our three models.  Let's score each region:\n",
    " - Each region gets a score of 1 for each model it appears in (maximum of 3)\n",
    " - We'll sort the scores to give kmeans the most importance, followed by RFM and then NMF\n",
    "     - In other words, a region that only appears in kmeans will be ranked higher than a region that only appears in rfm or nmf.\n",
    " - We'll filter our data to only show the top 10 regions that are closest to Saint Petersburg"
   ]
  },
  {
   "cell_type": "code",
   "execution_count": 25,
   "id": "thorough-developer",
   "metadata": {
    "jupyter": {
     "source_hidden": true
    },
    "tags": []
   },
   "outputs": [
    {
     "data": {
      "text/html": [
       "<div>\n",
       "<style scoped>\n",
       "    .dataframe tbody tr th:only-of-type {\n",
       "        vertical-align: middle;\n",
       "    }\n",
       "\n",
       "    .dataframe tbody tr th {\n",
       "        vertical-align: top;\n",
       "    }\n",
       "\n",
       "    .dataframe thead th {\n",
       "        text-align: right;\n",
       "    }\n",
       "</style>\n",
       "<table border=\"1\" class=\"dataframe\">\n",
       "  <thead>\n",
       "    <tr style=\"text-align: right;\">\n",
       "      <th></th>\n",
       "      <th>region</th>\n",
       "      <th>kmeans</th>\n",
       "      <th>rfm</th>\n",
       "      <th>nmf</th>\n",
       "      <th>score</th>\n",
       "    </tr>\n",
       "  </thead>\n",
       "  <tbody>\n",
       "    <tr>\n",
       "      <th>0</th>\n",
       "      <td>Saint Petersburg</td>\n",
       "      <td>True</td>\n",
       "      <td>True</td>\n",
       "      <td>True</td>\n",
       "      <td>3</td>\n",
       "    </tr>\n",
       "    <tr>\n",
       "      <th>1</th>\n",
       "      <td>Zabaykalsky Krai</td>\n",
       "      <td>True</td>\n",
       "      <td>True</td>\n",
       "      <td>False</td>\n",
       "      <td>2</td>\n",
       "    </tr>\n",
       "    <tr>\n",
       "      <th>2</th>\n",
       "      <td>Leningrad Oblast</td>\n",
       "      <td>True</td>\n",
       "      <td>False</td>\n",
       "      <td>True</td>\n",
       "      <td>2</td>\n",
       "    </tr>\n",
       "    <tr>\n",
       "      <th>3</th>\n",
       "      <td>Republic of Adygea</td>\n",
       "      <td>True</td>\n",
       "      <td>False</td>\n",
       "      <td>False</td>\n",
       "      <td>1</td>\n",
       "    </tr>\n",
       "    <tr>\n",
       "      <th>4</th>\n",
       "      <td>Vologda Oblast</td>\n",
       "      <td>True</td>\n",
       "      <td>False</td>\n",
       "      <td>False</td>\n",
       "      <td>1</td>\n",
       "    </tr>\n",
       "    <tr>\n",
       "      <th>5</th>\n",
       "      <td>Kostroma Oblast</td>\n",
       "      <td>True</td>\n",
       "      <td>False</td>\n",
       "      <td>False</td>\n",
       "      <td>1</td>\n",
       "    </tr>\n",
       "    <tr>\n",
       "      <th>6</th>\n",
       "      <td>Republic of Crimea</td>\n",
       "      <td>True</td>\n",
       "      <td>False</td>\n",
       "      <td>False</td>\n",
       "      <td>1</td>\n",
       "    </tr>\n",
       "    <tr>\n",
       "      <th>7</th>\n",
       "      <td>Republic of Mordovia</td>\n",
       "      <td>True</td>\n",
       "      <td>False</td>\n",
       "      <td>False</td>\n",
       "      <td>1</td>\n",
       "    </tr>\n",
       "    <tr>\n",
       "      <th>8</th>\n",
       "      <td>Altai Republic</td>\n",
       "      <td>True</td>\n",
       "      <td>False</td>\n",
       "      <td>False</td>\n",
       "      <td>1</td>\n",
       "    </tr>\n",
       "    <tr>\n",
       "      <th>9</th>\n",
       "      <td>Komi Republic</td>\n",
       "      <td>True</td>\n",
       "      <td>False</td>\n",
       "      <td>False</td>\n",
       "      <td>1</td>\n",
       "    </tr>\n",
       "    <tr>\n",
       "      <th>10</th>\n",
       "      <td>Yaroslavl Oblast</td>\n",
       "      <td>True</td>\n",
       "      <td>False</td>\n",
       "      <td>False</td>\n",
       "      <td>1</td>\n",
       "    </tr>\n",
       "  </tbody>\n",
       "</table>\n",
       "</div>"
      ],
      "text/plain": [
       "                  region  kmeans    rfm    nmf  score\n",
       "0       Saint Petersburg    True   True   True      3\n",
       "1       Zabaykalsky Krai    True   True  False      2\n",
       "2       Leningrad Oblast    True  False   True      2\n",
       "3     Republic of Adygea    True  False  False      1\n",
       "4         Vologda Oblast    True  False  False      1\n",
       "5        Kostroma Oblast    True  False  False      1\n",
       "6     Republic of Crimea    True  False  False      1\n",
       "7   Republic of Mordovia    True  False  False      1\n",
       "8         Altai Republic    True  False  False      1\n",
       "9          Komi Republic    True  False  False      1\n",
       "10      Yaroslavl Oblast    True  False  False      1"
      ]
     },
     "execution_count": 25,
     "metadata": {},
     "output_type": "execute_result"
    }
   ],
   "source": [
    "df_groupings[\"score\"] = df_groupings.kmeans.astype(int) + df_groupings.rfm.astype(int) + df_groupings.nmf.astype(int)\n",
    "final = df_groupings[df_groupings.score > 0].sort_values([\"score\", \"kmeans\", \"rfm\", \"nmf\"], ascending = False).reset_index(drop=True)\n",
    "final.iloc[:11]"
   ]
  },
  {
   "cell_type": "markdown",
   "id": "static-current",
   "metadata": {},
   "source": [
    "And there we have it, our 10 recommended regions.\n",
    "\n",
    "## 5.0 Next steps and the future\n",
    "In order to validate our analysis, we'll need our assumptions confirmed.\n",
    "If we were to obtain more detail, it would be great to analysis the regions against other features, such as their demographics and the competition.\n",
    "\n",
    "James Morgan"
   ]
  }
 ],
 "metadata": {
  "colab": {
   "name": "Welcome to DataCamp Workspaces.ipynb",
   "provenance": []
  },
  "kernelspec": {
   "display_name": "Python 3",
   "language": "python",
   "name": "python3"
  },
  "language_info": {
   "codemirror_mode": {
    "name": "ipython",
    "version": 3
   },
   "file_extension": ".py",
   "mimetype": "text/x-python",
   "name": "python",
   "nbconvert_exporter": "python",
   "pygments_lexer": "ipython3",
   "version": "3.8.5"
  }
 },
 "nbformat": 4,
 "nbformat_minor": 5
}
